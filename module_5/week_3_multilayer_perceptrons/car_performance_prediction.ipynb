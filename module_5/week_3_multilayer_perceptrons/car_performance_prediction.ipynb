{
 "cells": [
  {
   "cell_type": "markdown",
   "metadata": {
    "id": "E4sS0PFnr2Nu"
   },
   "source": [
    "## **0. Download dataset**\n",
    "**Note:** If you can't download using gdown due to limited number of downloads, please download it manually and upload it to your drive, then copy it from the drive to colab.\n",
    "```python\n",
    "from google.colab import drive\n",
    "\n",
    "drive.mount('/content/drive')\n",
    "!cp /path/to/dataset/on/your/drive .\n",
    "```"
   ]
  },
  {
   "cell_type": "code",
   "execution_count": 1,
   "metadata": {
    "id": "EVKQJrh6qhh9"
   },
   "outputs": [
    {
     "name": "stdout",
     "output_type": "stream",
     "text": [
      "zsh:1: command not found: gdown\n"
     ]
    }
   ],
   "source": [
    "# https://drive.google.com/file/d/1qiUDDoYyRLBiKOoYWdFl_5WByHE8Cugu/view?usp=sharing\n",
    "!gdown --id 1qiUDDoYyRLBiKOoYWdFl_5WByHE8Cugu"
   ]
  },
  {
   "cell_type": "markdown",
   "metadata": {
    "id": "PUWcf3M7iAk7"
   },
   "source": [
    "## **1. Import libraries**"
   ]
  },
  {
   "cell_type": "code",
   "execution_count": 23,
   "metadata": {
    "id": "G3bkvnjeX3Qw"
   },
   "outputs": [],
   "source": [
    "import numpy as np\n",
    "import pandas as pd\n",
    "import matplotlib.pyplot as plt\n",
    "import torch\n",
    "import torch.nn as nn\n",
    "import torch.nn.functional as F\n",
    "from torch.utils.data import Dataset, DataLoader\n",
    "\n",
    "from sklearn.model_selection import train_test_split\n",
    "from sklearn.preprocessing import StandardScaler\n",
    "\n",
    "device = torch.device('cuda:0' if torch.cuda.is_available() else 'cpu')\n",
    "random_state = 59\n",
    "np.random.seed(random_state)\n",
    "torch.manual_seed(random_state)\n",
    "if torch.cuda.is_available():\n",
    "    torch.cuda.manual_seed(random_state)"
   ]
  },
  {
   "cell_type": "markdown",
   "metadata": {
    "id": "YZLOVWxF3CA3"
   },
   "source": [
    "## **2. Read dataset**"
   ]
  },
  {
   "cell_type": "code",
   "execution_count": 10,
   "metadata": {
    "id": "mD0-N0bRb9c5"
   },
   "outputs": [
    {
     "data": {
      "text/html": [
       "<div>\n",
       "<style scoped>\n",
       "    .dataframe tbody tr th:only-of-type {\n",
       "        vertical-align: middle;\n",
       "    }\n",
       "\n",
       "    .dataframe tbody tr th {\n",
       "        vertical-align: top;\n",
       "    }\n",
       "\n",
       "    .dataframe thead th {\n",
       "        text-align: right;\n",
       "    }\n",
       "</style>\n",
       "<table border=\"1\" class=\"dataframe\">\n",
       "  <thead>\n",
       "    <tr style=\"text-align: right;\">\n",
       "      <th></th>\n",
       "      <th>MPG</th>\n",
       "      <th>Cylinders</th>\n",
       "      <th>Displacement</th>\n",
       "      <th>Horsepower</th>\n",
       "      <th>Weight</th>\n",
       "      <th>Acceleration</th>\n",
       "      <th>Model Year</th>\n",
       "      <th>Europe</th>\n",
       "      <th>Japan</th>\n",
       "      <th>USA</th>\n",
       "    </tr>\n",
       "  </thead>\n",
       "  <tbody>\n",
       "    <tr>\n",
       "      <th>0</th>\n",
       "      <td>18.0</td>\n",
       "      <td>8</td>\n",
       "      <td>307.0</td>\n",
       "      <td>130.0</td>\n",
       "      <td>3504.0</td>\n",
       "      <td>12.0</td>\n",
       "      <td>70</td>\n",
       "      <td>0</td>\n",
       "      <td>0</td>\n",
       "      <td>1</td>\n",
       "    </tr>\n",
       "    <tr>\n",
       "      <th>1</th>\n",
       "      <td>15.0</td>\n",
       "      <td>8</td>\n",
       "      <td>350.0</td>\n",
       "      <td>165.0</td>\n",
       "      <td>3693.0</td>\n",
       "      <td>11.5</td>\n",
       "      <td>70</td>\n",
       "      <td>0</td>\n",
       "      <td>0</td>\n",
       "      <td>1</td>\n",
       "    </tr>\n",
       "    <tr>\n",
       "      <th>2</th>\n",
       "      <td>18.0</td>\n",
       "      <td>8</td>\n",
       "      <td>318.0</td>\n",
       "      <td>150.0</td>\n",
       "      <td>3436.0</td>\n",
       "      <td>11.0</td>\n",
       "      <td>70</td>\n",
       "      <td>0</td>\n",
       "      <td>0</td>\n",
       "      <td>1</td>\n",
       "    </tr>\n",
       "    <tr>\n",
       "      <th>3</th>\n",
       "      <td>16.0</td>\n",
       "      <td>8</td>\n",
       "      <td>304.0</td>\n",
       "      <td>150.0</td>\n",
       "      <td>3433.0</td>\n",
       "      <td>12.0</td>\n",
       "      <td>70</td>\n",
       "      <td>0</td>\n",
       "      <td>0</td>\n",
       "      <td>1</td>\n",
       "    </tr>\n",
       "    <tr>\n",
       "      <th>4</th>\n",
       "      <td>17.0</td>\n",
       "      <td>8</td>\n",
       "      <td>302.0</td>\n",
       "      <td>140.0</td>\n",
       "      <td>3449.0</td>\n",
       "      <td>10.5</td>\n",
       "      <td>70</td>\n",
       "      <td>0</td>\n",
       "      <td>0</td>\n",
       "      <td>1</td>\n",
       "    </tr>\n",
       "  </tbody>\n",
       "</table>\n",
       "</div>"
      ],
      "text/plain": [
       "    MPG  Cylinders  Displacement  Horsepower  Weight  Acceleration  \\\n",
       "0  18.0          8         307.0       130.0  3504.0          12.0   \n",
       "1  15.0          8         350.0       165.0  3693.0          11.5   \n",
       "2  18.0          8         318.0       150.0  3436.0          11.0   \n",
       "3  16.0          8         304.0       150.0  3433.0          12.0   \n",
       "4  17.0          8         302.0       140.0  3449.0          10.5   \n",
       "\n",
       "   Model Year  Europe  Japan  USA  \n",
       "0          70       0      0    1  \n",
       "1          70       0      0    1  \n",
       "2          70       0      0    1  \n",
       "3          70       0      0    1  \n",
       "4          70       0      0    1  "
      ]
     },
     "execution_count": 10,
     "metadata": {},
     "output_type": "execute_result"
    }
   ],
   "source": [
    "dataset_path = 'Auto_MPG_data.csv'\n",
    "dataset = pd.read_csv(dataset_path)\n",
    "dataset.head()"
   ]
  },
  {
   "cell_type": "markdown",
   "metadata": {
    "id": "T6eIMDg_8G88"
   },
   "source": [
    "## **3. Preprocessing data**"
   ]
  },
  {
   "cell_type": "markdown",
   "metadata": {
    "id": "FyJI_cLkkE6C"
   },
   "source": [
    "### **3.1. X, y split**"
   ]
  },
  {
   "cell_type": "code",
   "execution_count": 9,
   "metadata": {
    "id": "gESa74pukGzL"
   },
   "outputs": [],
   "source": [
    "X = dataset.drop(columns='MPG').values\n",
    "y = dataset['MPG'].values"
   ]
  },
  {
   "cell_type": "markdown",
   "metadata": {
    "id": "eYQgHFPy3M-G"
   },
   "source": [
    "### **3.2. Train/val/test split**"
   ]
  },
  {
   "cell_type": "code",
   "execution_count": null,
   "metadata": {
    "id": "3KFNxNctYgTY"
   },
   "outputs": [],
   "source": [
    "val_size = 0.2\n",
    "test_size = 0.125\n",
    "is_shuffle = True\n",
    "\n",
    "X_train, X_val, y_train, y_val = train_test_split(\n",
    "    X, y,\n",
    "    test_size=val_size,\n",
    "    random_state=random_state,\n",
    "    shuffle=is_shuffle\n",
    ")\n",
    "\n",
    "X_train, X_test, y_train, y_test = train_test_split(\n",
    "    X_train, y_train,\n",
    "    test_size=test_size,\n",
    "    random_state=random_state,\n",
    "    shuffle=is_shuffle\n",
    ") # 0.125*0.8 = 0.1 => test is 10% of the whole dataset"
   ]
  },
  {
   "cell_type": "code",
   "execution_count": 12,
   "metadata": {
    "id": "g5iEiqW8m5Nl"
   },
   "outputs": [
    {
     "name": "stdout",
     "output_type": "stream",
     "text": [
      "Number of training samples: 273\n",
      "Number of val samples: 79\n",
      "Number of test samples: 40\n"
     ]
    }
   ],
   "source": [
    "print(f'Number of training samples: {X_train.shape[0]}')\n",
    "print(f'Number of val samples: {X_val.shape[0]}')\n",
    "print(f'Number of test samples: {X_test.shape[0]}')"
   ]
  },
  {
   "cell_type": "markdown",
   "metadata": {
    "id": "fJwFqmUn3ifv"
   },
   "source": [
    "### **3.3. Data Normalization**"
   ]
  },
  {
   "cell_type": "code",
   "execution_count": 14,
   "metadata": {},
   "outputs": [],
   "source": [
    "normalizer = StandardScaler()\n",
    "X_train = normalizer.fit_transform(X_train)\n",
    "X_val = normalizer.transform ( X_val )\n",
    "X_test = normalizer.transform ( X_test )\n",
    "\n",
    "X_train = torch.tensor ( X_train , dtype = torch.float32 )\n",
    "X_val = torch.tensor (X_val , dtype = torch.float32 )\n",
    "X_test = torch.tensor ( X_test , dtype = torch.float32 )\n",
    "y_train = torch.tensor ( y_train , dtype = torch.float32 )\n",
    "y_val = torch.tensor (y_val , dtype = torch.float32 )\n",
    "y_test = torch.tensor ( y_test , dtype = torch.float32 )"
   ]
  },
  {
   "cell_type": "markdown",
   "metadata": {
    "id": "NrZ520zomN8e"
   },
   "source": [
    "## **4. Create PyTorch DataLoader**"
   ]
  },
  {
   "cell_type": "code",
   "execution_count": 13,
   "metadata": {
    "id": "il-wRorLdmTV"
   },
   "outputs": [],
   "source": [
    "class CustomDataset(Dataset):\n",
    "    def __init__(self, X, y):\n",
    "        self.X=X\n",
    "        self.y=y\n",
    "\n",
    "    def __len__(self):\n",
    "        return len(self.y)\n",
    "\n",
    "    def __getitem__(self, idx):\n",
    "        return self.X[idx], self.y[idx]"
   ]
  },
  {
   "cell_type": "code",
   "execution_count": 15,
   "metadata": {},
   "outputs": [],
   "source": [
    "batch_size = 32\n",
    "train_dataset = CustomDataset(X_train, y_train)\n",
    "val_dataset = CustomDataset(X_val, y_val)\n",
    "train_loader = DataLoader(train_dataset,\n",
    "                          batch_size=batch_size,\n",
    "                          shuffle=True)\n",
    "val_loader = DataLoader(val_dataset,\n",
    "                        batch_size=batch_size,\n",
    "                        shuffle=False)"
   ]
  },
  {
   "cell_type": "markdown",
   "metadata": {
    "id": "qT1Fm6YgoCRZ"
   },
   "source": [
    "## **5. Build MLP network**"
   ]
  },
  {
   "cell_type": "code",
   "execution_count": 16,
   "metadata": {
    "id": "Co98aXfydtz0"
   },
   "outputs": [],
   "source": [
    "class MLP(nn.Module):\n",
    "    def __init__(self, input_dims, hidden_dims, output_dims):\n",
    "        super().__init__()\n",
    "        self.linear1 = nn.Linear(input_dims,hidden_dims)\n",
    "        self.linear2 = nn.Linear(hidden_dims,hidden_dims)\n",
    "        self.output = nn.Linear(hidden_dims,output_dims)\n",
    "\n",
    "    def forward(self, x):\n",
    "        x = self.linear1(x)\n",
    "        x = F.relu(x)\n",
    "        x = self.linear2(x)\n",
    "        x = F.relu(x)\n",
    "        out = self.output(x)\n",
    "        return out.squeeze(1)"
   ]
  },
  {
   "cell_type": "markdown",
   "metadata": {
    "id": "oJzhhPUn4zy8"
   },
   "source": [
    "## **6. Training**"
   ]
  },
  {
   "cell_type": "code",
   "execution_count": 19,
   "metadata": {},
   "outputs": [],
   "source": [
    "input_dims = X_train.shape[1]\n",
    "output_dims = 1\n",
    "hidden_dims = 64\n",
    "\n",
    "model = MLP(input_dims=input_dims,\n",
    "            hidden_dims=hidden_dims,\n",
    "            output_dims=output_dims).to(device)"
   ]
  },
  {
   "cell_type": "code",
   "execution_count": null,
   "metadata": {},
   "outputs": [],
   "source": [
    "lr = 1e-2\n",
    "criterion = nn.MSELoss()\n",
    "optimizer = torch.optim.SGD(model.parameters(), lr=lr)"
   ]
  },
  {
   "cell_type": "code",
   "execution_count": 18,
   "metadata": {
    "id": "kY1rB1usfEUc"
   },
   "outputs": [],
   "source": [
    "def r_squared(y_true, y_pred):\n",
    "    y_true = torch.Tensor(y_true).to(device)\n",
    "    y_pred = torch.Tensor(y_pred).to(device)\n",
    "    mean_true = torch.mean(y_true)\n",
    "    ss_tot = torch.sum((y_true - mean_true) ** 2)\n",
    "    ss_res = torch.sum((y_true - y_pred) ** 2)\n",
    "    r2 = 1 - (ss_res / ss_tot)\n",
    "    return r2"
   ]
  },
  {
   "cell_type": "code",
   "execution_count": 21,
   "metadata": {},
   "outputs": [],
   "source": [
    "epochs = 100\n",
    "train_losses = []\n",
    "val_losses = []\n",
    "train_r2 = []\n",
    "val_r2 = []"
   ]
  },
  {
   "cell_type": "code",
   "execution_count": 28,
   "metadata": {
    "id": "4krCCYspfI4W"
   },
   "outputs": [
    {
     "name": "stdout",
     "output_type": "stream",
     "text": [
      "\n",
      "EPOCH 1:\tTraining loss: 492.657\tValidation loss: 492.412\n",
      "\n",
      "EPOCH 2:\tTraining loss: 286.068\tValidation loss: 94.996\n",
      "\n",
      "EPOCH 3:\tTraining loss: 104.504\tValidation loss: 18.869\n",
      "\n",
      "EPOCH 4:\tTraining loss: 40.750\tValidation loss: 79.868\n",
      "\n",
      "EPOCH 5:\tTraining loss: 25.542\tValidation loss: 93.781\n",
      "\n",
      "EPOCH 6:\tTraining loss: 51.174\tValidation loss: 54.461\n",
      "\n",
      "EPOCH 7:\tTraining loss: 17.567\tValidation loss: 10.849\n",
      "\n",
      "EPOCH 8:\tTraining loss: 9.525\tValidation loss: 10.618\n",
      "\n",
      "EPOCH 9:\tTraining loss: 17.575\tValidation loss: 8.129\n",
      "\n",
      "EPOCH 10:\tTraining loss: 10.873\tValidation loss: 6.523\n",
      "\n",
      "EPOCH 11:\tTraining loss: 8.766\tValidation loss: 8.351\n",
      "\n",
      "EPOCH 12:\tTraining loss: 13.752\tValidation loss: 6.921\n",
      "\n",
      "EPOCH 13:\tTraining loss: 6.857\tValidation loss: 5.512\n",
      "\n",
      "EPOCH 14:\tTraining loss: 7.296\tValidation loss: 5.656\n",
      "\n",
      "EPOCH 15:\tTraining loss: 8.638\tValidation loss: 7.409\n",
      "\n",
      "EPOCH 16:\tTraining loss: 12.197\tValidation loss: 9.907\n",
      "\n",
      "EPOCH 17:\tTraining loss: 12.856\tValidation loss: 9.642\n",
      "\n",
      "EPOCH 18:\tTraining loss: 7.710\tValidation loss: 5.725\n",
      "\n",
      "EPOCH 19:\tTraining loss: 8.239\tValidation loss: 5.608\n",
      "\n",
      "EPOCH 20:\tTraining loss: 8.755\tValidation loss: 12.047\n",
      "\n",
      "EPOCH 21:\tTraining loss: 7.661\tValidation loss: 5.462\n",
      "\n",
      "EPOCH 22:\tTraining loss: 7.275\tValidation loss: 6.805\n",
      "\n",
      "EPOCH 23:\tTraining loss: 6.527\tValidation loss: 9.915\n",
      "\n",
      "EPOCH 24:\tTraining loss: 12.241\tValidation loss: 8.024\n",
      "\n",
      "EPOCH 25:\tTraining loss: 7.169\tValidation loss: 6.411\n",
      "\n",
      "EPOCH 26:\tTraining loss: 7.265\tValidation loss: 6.407\n",
      "\n",
      "EPOCH 27:\tTraining loss: 11.493\tValidation loss: 7.160\n",
      "\n",
      "EPOCH 28:\tTraining loss: 6.428\tValidation loss: 5.486\n",
      "\n",
      "EPOCH 29:\tTraining loss: 6.389\tValidation loss: 5.280\n",
      "\n",
      "EPOCH 30:\tTraining loss: 7.306\tValidation loss: 10.682\n",
      "\n",
      "EPOCH 31:\tTraining loss: 7.103\tValidation loss: 5.029\n",
      "\n",
      "EPOCH 32:\tTraining loss: 5.778\tValidation loss: 5.300\n",
      "\n",
      "EPOCH 33:\tTraining loss: 7.457\tValidation loss: 15.617\n",
      "\n",
      "EPOCH 34:\tTraining loss: 9.119\tValidation loss: 5.708\n",
      "\n",
      "EPOCH 35:\tTraining loss: 5.740\tValidation loss: 5.532\n",
      "\n",
      "EPOCH 36:\tTraining loss: 6.300\tValidation loss: 8.143\n",
      "\n",
      "EPOCH 37:\tTraining loss: 7.030\tValidation loss: 6.196\n",
      "\n",
      "EPOCH 38:\tTraining loss: 6.068\tValidation loss: 8.526\n",
      "\n",
      "EPOCH 39:\tTraining loss: 6.330\tValidation loss: 7.218\n",
      "\n",
      "EPOCH 40:\tTraining loss: 5.857\tValidation loss: 7.993\n",
      "\n",
      "EPOCH 41:\tTraining loss: 7.102\tValidation loss: 8.136\n",
      "\n",
      "EPOCH 42:\tTraining loss: 7.592\tValidation loss: 5.762\n",
      "\n",
      "EPOCH 43:\tTraining loss: 5.962\tValidation loss: 6.298\n",
      "\n",
      "EPOCH 44:\tTraining loss: 6.664\tValidation loss: 5.552\n",
      "\n",
      "EPOCH 45:\tTraining loss: 6.037\tValidation loss: 7.141\n",
      "\n",
      "EPOCH 46:\tTraining loss: 7.445\tValidation loss: 25.549\n",
      "\n",
      "EPOCH 47:\tTraining loss: 9.568\tValidation loss: 7.262\n",
      "\n",
      "EPOCH 48:\tTraining loss: 6.830\tValidation loss: 7.876\n",
      "\n",
      "EPOCH 49:\tTraining loss: 7.211\tValidation loss: 10.466\n",
      "\n",
      "EPOCH 50:\tTraining loss: 6.195\tValidation loss: 5.275\n",
      "\n",
      "EPOCH 51:\tTraining loss: 6.195\tValidation loss: 5.253\n",
      "\n",
      "EPOCH 52:\tTraining loss: 5.115\tValidation loss: 4.897\n",
      "\n",
      "EPOCH 53:\tTraining loss: 6.788\tValidation loss: 8.668\n",
      "\n",
      "EPOCH 54:\tTraining loss: 5.653\tValidation loss: 6.416\n",
      "\n",
      "EPOCH 55:\tTraining loss: 5.499\tValidation loss: 8.199\n",
      "\n",
      "EPOCH 56:\tTraining loss: 5.460\tValidation loss: 5.668\n",
      "\n",
      "EPOCH 57:\tTraining loss: 6.645\tValidation loss: 5.428\n",
      "\n",
      "EPOCH 58:\tTraining loss: 5.249\tValidation loss: 6.411\n",
      "\n",
      "EPOCH 59:\tTraining loss: 5.535\tValidation loss: 5.468\n",
      "\n",
      "EPOCH 60:\tTraining loss: 5.232\tValidation loss: 8.524\n",
      "\n",
      "EPOCH 61:\tTraining loss: 6.199\tValidation loss: 7.965\n",
      "\n",
      "EPOCH 62:\tTraining loss: 5.398\tValidation loss: 5.277\n",
      "\n",
      "EPOCH 63:\tTraining loss: 5.195\tValidation loss: 5.987\n",
      "\n",
      "EPOCH 64:\tTraining loss: 6.272\tValidation loss: 9.330\n",
      "\n",
      "EPOCH 65:\tTraining loss: 5.776\tValidation loss: 5.593\n",
      "\n",
      "EPOCH 66:\tTraining loss: 6.195\tValidation loss: 8.680\n",
      "\n",
      "EPOCH 67:\tTraining loss: 6.306\tValidation loss: 4.962\n",
      "\n",
      "EPOCH 68:\tTraining loss: 5.053\tValidation loss: 5.793\n",
      "\n",
      "EPOCH 69:\tTraining loss: 5.708\tValidation loss: 12.282\n",
      "\n",
      "EPOCH 70:\tTraining loss: 5.274\tValidation loss: 6.148\n",
      "\n",
      "EPOCH 71:\tTraining loss: 5.236\tValidation loss: 7.298\n",
      "\n",
      "EPOCH 72:\tTraining loss: 6.545\tValidation loss: 6.297\n",
      "\n",
      "EPOCH 73:\tTraining loss: 5.346\tValidation loss: 5.959\n",
      "\n",
      "EPOCH 74:\tTraining loss: 5.598\tValidation loss: 6.178\n",
      "\n",
      "EPOCH 75:\tTraining loss: 5.275\tValidation loss: 6.900\n",
      "\n",
      "EPOCH 76:\tTraining loss: 5.243\tValidation loss: 6.121\n",
      "\n",
      "EPOCH 77:\tTraining loss: 5.166\tValidation loss: 5.990\n",
      "\n",
      "EPOCH 78:\tTraining loss: 5.161\tValidation loss: 10.118\n",
      "\n",
      "EPOCH 79:\tTraining loss: 6.981\tValidation loss: 5.077\n",
      "\n",
      "EPOCH 80:\tTraining loss: 5.454\tValidation loss: 8.491\n",
      "\n",
      "EPOCH 81:\tTraining loss: 4.856\tValidation loss: 4.652\n",
      "\n",
      "EPOCH 82:\tTraining loss: 5.363\tValidation loss: 7.336\n",
      "\n",
      "EPOCH 83:\tTraining loss: 5.653\tValidation loss: 7.089\n",
      "\n",
      "EPOCH 84:\tTraining loss: 6.016\tValidation loss: 6.543\n",
      "\n",
      "EPOCH 85:\tTraining loss: 4.554\tValidation loss: 5.126\n",
      "\n",
      "EPOCH 86:\tTraining loss: 4.582\tValidation loss: 5.182\n",
      "\n",
      "EPOCH 87:\tTraining loss: 4.796\tValidation loss: 5.190\n",
      "\n",
      "EPOCH 88:\tTraining loss: 5.131\tValidation loss: 10.550\n",
      "\n",
      "EPOCH 89:\tTraining loss: 4.862\tValidation loss: 5.300\n",
      "\n",
      "EPOCH 90:\tTraining loss: 4.661\tValidation loss: 6.092\n",
      "\n",
      "EPOCH 91:\tTraining loss: 5.030\tValidation loss: 7.168\n",
      "\n",
      "EPOCH 92:\tTraining loss: 5.068\tValidation loss: 5.571\n",
      "\n",
      "EPOCH 93:\tTraining loss: 5.148\tValidation loss: 14.111\n",
      "\n",
      "EPOCH 94:\tTraining loss: 7.594\tValidation loss: 7.038\n",
      "\n",
      "EPOCH 95:\tTraining loss: 5.167\tValidation loss: 6.767\n",
      "\n",
      "EPOCH 96:\tTraining loss: 5.957\tValidation loss: 5.716\n",
      "\n",
      "EPOCH 97:\tTraining loss: 4.641\tValidation loss: 5.846\n",
      "\n",
      "EPOCH 98:\tTraining loss: 4.438\tValidation loss: 5.849\n",
      "\n",
      "EPOCH 99:\tTraining loss: 4.517\tValidation loss: 4.808\n",
      "\n",
      "EPOCH 100:\tTraining loss: 5.067\tValidation loss: 5.459\n"
     ]
    }
   ],
   "source": [
    "for epoch in range(epochs):\n",
    "    train_loss = 0.0\n",
    "    train_target = []\n",
    "    val_target = []\n",
    "    train_predict = []\n",
    "    val_predict = []\n",
    "    model.train()\n",
    "    for X_samples, y_samples in train_loader:\n",
    "        X_samples = X_samples.to(device)\n",
    "        y_samples = y_samples.to(device)\n",
    "        optimizer.zero_grad()\n",
    "        outputs = model(X_samples)\n",
    "        train_predict += outputs.tolist()\n",
    "        train_target += y_samples.tolist()\n",
    "        loss = criterion(outputs, y_samples)\n",
    "        loss.backward()\n",
    "        optimizer.step()\n",
    "        train_loss += loss.item()\n",
    "    train_loss /= len(train_loader)\n",
    "    train_losses.append(train_loss)\n",
    "    train_r2.append(r_squared(train_target, train_predict))\n",
    "    model.eval()\n",
    "    val_loss = 0.0\n",
    "    with torch.no_grad():\n",
    "        for X_samples, y_samples in val_loader:\n",
    "            X_samples = X_samples.to(device)\n",
    "            y_samples = y_samples.to(device)\n",
    "            outputs = model(X_samples)\n",
    "            val_predict += outputs.tolist()\n",
    "            val_target += y_samples.tolist()\n",
    "            loss = criterion(outputs, y_samples)\n",
    "            val_loss += loss.item()\n",
    "    val_loss /= len(val_loader)\n",
    "    val_losses.append(val_loss)\n",
    "    val_r2.append(r_squared(val_target, val_predict))\n",
    "    print(f'\\nEPOCH {epoch + 1}:\\tTraining loss: {train_loss:.3f}\\tValidation loss: {val_loss:.3f}')"
   ]
  },
  {
   "cell_type": "code",
   "execution_count": 29,
   "metadata": {
    "id": "GBoqX7xMfNxK"
   },
   "outputs": [
    {
     "data": {
      "image/png": "[encoded data removed]",
      "text/plain": [
       "<Figure size 1200x1000 with 4 Axes>"
      ]
     },
     "metadata": {},
     "output_type": "display_data"
    }
   ],
   "source": [
    "fig, ax = plt.subplots(2, 2, figsize=(12, 10))\n",
    "ax[0, 0].plot(train_losses, color='green')\n",
    "ax[0, 0].set(xlabel='Epoch', ylabel='Loss')\n",
    "ax[0, 0].set_title('Training Loss')\n",
    "\n",
    "ax[0, 1].plot(val_losses, color='orange')\n",
    "ax[0, 1].set(xlabel='Epoch', ylabel='Loss')\n",
    "ax[0, 1].set_title('Validation Loss')\n",
    "\n",
    "ax[1, 0].plot(train_r2, color='green')\n",
    "ax[1, 0].set(xlabel='Epoch', ylabel='R2')\n",
    "ax[1, 0].set_title('Training R2')\n",
    "\n",
    "ax[1, 1].plot(val_r2, color='orange')\n",
    "ax[1, 1].set(xlabel='Epoch', ylabel='R2')\n",
    "ax[1, 1].set_title('Validation R2')\n",
    "\n",
    "plt.show()"
   ]
  },
  {
   "cell_type": "markdown",
   "metadata": {
    "id": "Z8sKnabn7Hf6"
   },
   "source": [
    "## **7. Evaluation**"
   ]
  },
  {
   "cell_type": "code",
   "execution_count": 30,
   "metadata": {
    "id": "D4p8aiMw7JNI"
   },
   "outputs": [
    {
     "name": "stdout",
     "output_type": "stream",
     "text": [
      "Evaluation on validation set:\n",
      "R2: 0.8923840522766113\n"
     ]
    }
   ],
   "source": [
    "model.eval()\n",
    "with torch.no_grad():\n",
    "    y_hat = model(X_val)\n",
    "    val_set_r2 = r_squared(y_hat, y_val)\n",
    "    print('Evaluation on validation set:')\n",
    "    print(f'R2: {val_set_r2}')"
   ]
  }
 ],
 "metadata": {
  "colab": {
   "provenance": []
  },
  "kernelspec": {
   "display_name": "aio-2024-env",
   "language": "python",
   "name": "python3"
  },
  "language_info": {
   "codemirror_mode": {
    "name": "ipython",
    "version": 3
   },
   "file_extension": ".py",
   "mimetype": "text/x-python",
   "name": "python",
   "nbconvert_exporter": "python",
   "pygments_lexer": "ipython3",
   "version": "3.11.8"
  }
 },
 "nbformat": 4,
 "nbformat_minor": 0
}
