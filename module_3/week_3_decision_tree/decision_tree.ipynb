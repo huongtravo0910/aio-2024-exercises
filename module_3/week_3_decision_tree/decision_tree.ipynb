{
 "cells": [
  {
   "cell_type": "markdown",
   "metadata": {},
   "source": [
    "## **DECISION TREE**"
   ]
  },
  {
   "cell_type": "markdown",
   "metadata": {},
   "source": [
    "### **Decision Tree for Classification**"
   ]
  },
  {
   "cell_type": "markdown",
   "metadata": {},
   "source": [
    "### **Gini**"
   ]
  },
  {
   "cell_type": "code",
   "execution_count": 1,
   "metadata": {},
   "outputs": [],
   "source": [
    "import pandas as pd\n",
    "import numpy as np\n",
    "from sklearn.tree import DecisionTreeClassifier\n",
    "\n",
    "data = {'age': [23, 25, 27, 29, 29],\n",
    "        'likes english': [0, 1, 1, 0, 0],\n",
    "        'likes ai': [0, 1, 0, 1, 0],\n",
    "        'raise salary': [0, 0, 1, 1, 0]}\n",
    "\n",
    "# load data\n",
    "df = pd.DataFrame(data)\n",
    "\n",
    "# get value and convert to numpy\n",
    "X = df[['age', 'likes english', 'likes ai']].values\n",
    "y = df[['raise salary']].values.reshape(-1,)\n",
    "\n",
    "# define classifier\n",
    "clf = DecisionTreeClassifier()\n",
    "\n",
    "# train\n",
    "clf = clf.fit(X, y)"
   ]
  }
 ],
 "metadata": {
  "kernelspec": {
   "display_name": "aio-2024-env",
   "language": "python",
   "name": "python3"
  },
  "language_info": {
   "codemirror_mode": {
    "name": "ipython",
    "version": 3
   },
   "file_extension": ".py",
   "mimetype": "text/x-python",
   "name": "python",
   "nbconvert_exporter": "python",
   "pygments_lexer": "ipython3",
   "version": "3.11.8"
  }
 },
 "nbformat": 4,
 "nbformat_minor": 2
}
